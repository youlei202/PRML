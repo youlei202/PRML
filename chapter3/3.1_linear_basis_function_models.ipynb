{
 "cells": [
  {
   "cell_type": "markdown",
   "metadata": {},
   "source": [
    "# 3.1 Linear Basis Function Models"
   ]
  },
  {
   "cell_type": "code",
   "execution_count": 24,
   "metadata": {},
   "outputs": [],
   "source": [
    "import numpy as np\n",
    "import tensorflow as tf\n",
    "import matplotlib.pyplot as plt\n",
    "import random"
   ]
  },
  {
   "cell_type": "code",
   "execution_count": 25,
   "metadata": {},
   "outputs": [],
   "source": [
    "# Generate random data points (x,y) with gaussian noise\n",
    "\n",
    "def data_generator(num, slope, intercept, noise_level):\n",
    "    vec_x = np.random.normal(0.5, noise_level, N)\n",
    "    noise = np.random.normal(0, noise_level/1.5, N)\n",
    "    vec_y = []\n",
    "    for i in range(num):\n",
    "        x = vec_x[i]\n",
    "        y = x * slope + intercept + noise[i]\n",
    "        vec_y.append(y)\n",
    "    return np.array(vec_x), np.array(vec_y)\n",
    "    \n",
    "\n",
    "N = 100\n",
    "data_x, data_y = data_generator(N, 0.7, 0.15, noise_level=0.1)"
   ]
  },
  {
   "cell_type": "code",
   "execution_count": 26,
   "metadata": {},
   "outputs": [
    {
     "data": {
      "image/png": "[encoded data removed]",
      "text/plain": [
       "<Figure size 432x288 with 1 Axes>"
      ]
     },
     "metadata": {
      "needs_background": "light"
     },
     "output_type": "display_data"
    }
   ],
   "source": [
    "ax = plt.scatter(data_x, data_y, c='r', edgecolors='black');"
   ]
  },
  {
   "cell_type": "code",
   "execution_count": 43,
   "metadata": {},
   "outputs": [],
   "source": [
    "# Constructing model variables\n",
    "\n",
    "W = tf.Variable(rng.randn(),name=\"weight\")  \n",
    "b = tf.Variable(rng.randn(),name=\"bias\")  "
   ]
  },
  {
   "cell_type": "code",
   "execution_count": 44,
   "metadata": {},
   "outputs": [],
   "source": [
    "# Optimization Process\n",
    "optimizer = tf.optimizers.SGD(learning_rate = 0.01)\n",
    "\n",
    "def optimize():\n",
    "    with tf.GradientTape() as g:\n",
    "        # Constructing the model\n",
    "        y_hat = w * data_x + b\n",
    "        # Loss function: Mean squared error\n",
    "        loss_mse = tf.reduce_mean(tf.square(data_y - y_hat), name='loss_mse')\n",
    "\n",
    "    gradients = g.gradient(loss_mse,[w,b])  \n",
    "    optimizer.apply_gradients(zip(gradients,[w,b])) \n",
    "    return w, b "
   ]
  },
  {
   "cell_type": "code",
   "execution_count": 45,
   "metadata": {},
   "outputs": [
    {
     "name": "stdout",
     "output_type": "stream",
     "text": [
      "step 50, loss 0.010100787986621172\n",
      "step 100, loss 0.00673376666058401\n",
      "step 150, loss 0.006443298968789865\n",
      "step 200, loss 0.006400386777552145\n",
      "step 250, loss 0.006377656899372064\n",
      "step 300, loss 0.006356823643230819\n",
      "step 350, loss 0.0063364224364522\n",
      "step 400, loss 0.006316327030290787\n",
      "step 450, loss 0.0062965216673166536\n",
      "step 500, loss 0.006277004482614621\n",
      "step 550, loss 0.006257766680817287\n",
      "step 600, loss 0.006238811353558622\n",
      "step 650, loss 0.006220126817960594\n",
      "step 700, loss 0.006201714215575249\n",
      "step 750, loss 0.006183568384682034\n",
      "step 800, loss 0.006165683391688262\n",
      "step 850, loss 0.006148061241073433\n",
      "step 900, loss 0.006130692718387457\n",
      "step 950, loss 0.006113573744811192\n",
      "step 1000, loss 0.006096704640081952\n"
     ]
    }
   ],
   "source": [
    "# Training Loop \n",
    "\n",
    "epochs = 1000\n",
    "for step in range(1, epochs+1):\n",
    "    w, b = optimize()\n",
    "        \n",
    "    if step % 50 == 0:\n",
    "        pred_y = [w * x + b for x in data_x]\n",
    "        loss_mse = tf.reduce_mean(tf.square(data_y - pred_y), name='loss_mse')\n",
    "        print(f'step {step}, loss {loss_mse}')\n"
   ]
  },
  {
   "cell_type": "code",
   "execution_count": 46,
   "metadata": {},
   "outputs": [
    {
     "data": {
      "text/plain": [
       "[<matplotlib.lines.Line2D at 0x7fd67906af90>]"
      ]
     },
     "execution_count": 46,
     "metadata": {},
     "output_type": "execute_result"
    },
    {
     "data": {
      "image/png": "[encoded data removed]",
      "text/plain": [
       "<Figure size 432x288 with 1 Axes>"
      ]
     },
     "metadata": {
      "needs_background": "light"
     },
     "output_type": "display_data"
    }
   ],
   "source": [
    "plt.scatter(data_x, data_y, c='r', edgecolor='black', alpha=0.5);\n",
    "plt.plot(data_x, pred_y)"
   ]
  }
 ],
 "metadata": {
  "kernelspec": {
   "display_name": "Python 3",
   "language": "python",
   "name": "python3"
  },
  "language_info": {
   "codemirror_mode": {
    "name": "ipython",
    "version": 3
   },
   "file_extension": ".py",
   "mimetype": "text/x-python",
   "name": "python",
   "nbconvert_exporter": "python",
   "pygments_lexer": "ipython3",
   "version": "3.7.7"
  }
 },
 "nbformat": 4,
 "nbformat_minor": 4
}
